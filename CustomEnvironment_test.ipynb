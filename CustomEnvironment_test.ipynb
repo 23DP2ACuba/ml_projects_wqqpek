{
 "cells": [
  {
   "cell_type": "code",
   "execution_count": null,
   "metadata": {
    "vscode": {
     "languageId": "plaintext"
    }
   },
   "outputs": [],
   "source": [
    "# ---------------- custom env ----------------\n",
    "from gymnasium import Env\n",
    "from gymnasium.spaces import Discrete, Box\n",
    "import numpy as np\n",
    "import random\n",
    "\n",
    "\n",
    "class CustomEnv(Env):\n",
    "  def __init__(self):\n",
    "    self.action_space = Discrete(3)\n",
    "    self.observation_space = Box(low=np.array([0]), high=np.array([100]))\n",
    "    self.state = 38+random.randint(-3, 3)\n",
    "    self.shower_length=60\n",
    "\n",
    "\n",
    "  def step(self, action):\n",
    "    self.state += action - 1\n",
    "    self.shower_length -= 1\n",
    "    done = False\n",
    "\n",
    "    if self.state >= 37 and self.state <= 39:\n",
    "      reward  = 1\n",
    "    else:\n",
    "      reward = -1\n",
    "\n",
    "    if self.shower_length <= 0:\n",
    "      done = True\n",
    "    self.state += random.randint(-1, 1)\n",
    "    info = {}\n",
    "\n",
    "    return self.state, reward,done, done, info\n",
    "    \n",
    "  def render(self):\n",
    "    pass\n",
    "  def reset(self, *, seed=None, options=None):\n",
    "    super().reset(seed=seed)\n",
    "    obs = np.zeros(self.observation_space.shape, dtype=np.float32)\n",
    "    info = {}\n",
    "    self.state = 38 + random.randint(-3, 3)\n",
    "    self.shower_length = 60\n",
    "    info = {} \n",
    "    return obs, info\n",
    "\n"
   ]
  },
  {
   "cell_type": "code",
   "execution_count": null,
   "id": "d2c51539",
   "metadata": {
    "vscode": {
     "languageId": "plaintext"
    }
   },
   "outputs": [],
   "source": [
    "env = CustomEnv()\n",
    "print(env.action_space.sample())\n",
    "print(env.observation_space.sample())"
   ]
  },
  {
   "cell_type": "code",
   "execution_count": null,
   "id": "246e318d",
   "metadata": {
    "vscode": {
     "languageId": "plaintext"
    }
   },
   "outputs": [],
   "source": [
    "episodes = 10\n",
    "for ep in range(1, episodes+1):\n",
    "  stats = env.reset()\n",
    "  done = False\n",
    "  score = 0\n",
    "\n",
    "  while not done:\n",
    "    env.render()\n",
    "    action = env.action_space.sample()\n",
    "    n_state, reward, done, info = env.step(action)\n",
    "    score += reward\n",
    "\n",
    "  print(ep, reward)"
   ]
  },
  {
   "cell_type": "code",
   "execution_count": null,
   "id": "dbdf24cc",
   "metadata": {
    "vscode": {
     "languageId": "plaintext"
    }
   },
   "outputs": [],
   "source": [
    "!pip install stable_baselines3"
   ]
  },
  {
   "cell_type": "code",
   "execution_count": null,
   "id": "966cd75c",
   "metadata": {
    "vscode": {
     "languageId": "plaintext"
    }
   },
   "outputs": [],
   "source": [
    "from stable_baselines3 import DQN\n",
    "from stable_baselines3.common.vec_env import DummyVecEnv\n",
    "\n",
    "env_maker = lambda: CustomEnv()\n",
    "env = DummyVecEnv([env_maker])\n",
    "\n",
    "model = DQN(\"MlpPolicy\", env, verbose=1, device=\"cpu\")\n",
    "model.learn(total_timesteps=10000)"
   ]
  },
  {
   "cell_type": "code",
   "execution_count": null,
   "id": "c5700403",
   "metadata": {
    "vscode": {
     "languageId": "plaintext"
    }
   },
   "outputs": [],
   "source": [
    "import gym\n",
    "test_env = CustomEnv()\n",
    "obs, info = test_env.reset()\n",
    "\n",
    "print(\"Action space:\", test_env.action_space)\n",
    "\n",
    "while True:\n",
    "    obs = np.expand_dims(obs, axis=0)\n",
    "    action, _states = model.predict(obs)\n",
    "    print(\"Predicted action:\", action, \"Type:\", type(action), \"Shape:\", action.shape)\n",
    "\n",
    "    if isinstance(test_env.action_space, gym.spaces.Discrete):\n",
    "        action = int(action.item())\n",
    "    elif isinstance(test_env.action_space, gym.spaces.Box):\n",
    "        action = action.flatten()\n",
    "\n",
    "    obs, reward, terminated, truncated, info = test_env.step(action)\n",
    "    done = terminated or truncated\n",
    "    if done:\n",
    "        print(\"Final info:\", info)\n",
    "        break"
   ]
  }
 ],
 "metadata": {
  "language_info": {
   "name": "python"
  }
 },
 "nbformat": 4,
 "nbformat_minor": 5
}
